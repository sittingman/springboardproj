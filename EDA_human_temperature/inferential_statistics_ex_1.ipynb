{
 "cells": [
  {
   "cell_type": "markdown",
   "metadata": {},
   "source": [
    "# What is the True Normal Human Body Temperature? \n",
    "\n",
    "#### Background\n",
    "\n",
    "The mean normal body temperature was held to be 37$^{\\circ}$C or 98.6$^{\\circ}$F for more than 120 years since it was first conceptualized and reported by Carl Wunderlich in a famous 1868 book. But, is this value statistically correct?"
   ]
  },
  {
   "cell_type": "markdown",
   "metadata": {},
   "source": [
    "<h3>Exercises</h3>\n",
    "\n",
    "<p>In this exercise, you will analyze a dataset of human body temperatures and employ the concepts of hypothesis testing, confidence intervals, and statistical significance.</p>\n",
    "\n",
    "<p>Answer the following questions <b>in this notebook below and submit to your Github account</b>.</p> \n",
    "\n",
    "<ol>\n",
    "<li>  Is the distribution of body temperatures normal? \n",
    "    <ul>\n",
    "    <li> Although this is not a requirement for the Central Limit Theorem to hold (read the introduction on Wikipedia's page about the CLT carefully: https://en.wikipedia.org/wiki/Central_limit_theorem), it gives us some peace of mind that the population may also be normally distributed if we assume that this sample is representative of the population.\n",
    "    <li> Think about the way you're going to check for the normality of the distribution. Graphical methods are usually used first, but there are also other ways: https://en.wikipedia.org/wiki/Normality_test\n",
    "    </ul>\n",
    "<li>  Is the sample size large? Are the observations independent?\n",
    "    <ul>\n",
    "    <li> Remember that this is a condition for the Central Limit Theorem, and hence the statistical tests we are using, to apply.\n",
    "    </ul>\n",
    "<li>  Is the true population mean really 98.6 degrees F?\n",
    "    <ul>\n",
    "    <li> First, try a bootstrap hypothesis test.\n",
    "    <li> Now, let's try frequentist statistical testing. Would you use a one-sample or two-sample test? Why?\n",
    "    <li> In this situation, is it appropriate to use the $t$ or $z$ statistic? \n",
    "    <li> Now try using the other test. How is the result be different? Why?\n",
    "    </ul>\n",
    "<li>  Draw a small sample of size 10 from the data and repeat both frequentist tests. \n",
    "    <ul>\n",
    "    <li> Which one is the correct one to use? \n",
    "    <li> What do you notice? What does this tell you about the difference in application of the $t$ and $z$ statistic?\n",
    "    </ul>\n",
    "<li>  At what temperature should we consider someone's temperature to be \"abnormal\"?\n",
    "    <ul>\n",
    "    <li> As in the previous example, try calculating everything using the boostrap approach, as well as the frequentist approach.\n",
    "    <li> Start by computing the margin of error and confidence interval. When calculating the confidence interval, keep in mind that you should use the appropriate formula for one draw, and not N draws.\n",
    "    </ul>\n",
    "<li>  Is there a significant difference between males and females in normal temperature?\n",
    "    <ul>\n",
    "    <li> What testing approach did you use and why?\n",
    "    <li> Write a story with your conclusion in the context of the original problem.\n",
    "    </ul>\n",
    "</ol>\n",
    "\n",
    "You can include written notes in notebook cells using Markdown: \n",
    "   - In the control panel at the top, choose Cell > Cell Type > Markdown\n",
    "   - Markdown syntax: http://nestacms.com/docs/creating-content/markdown-cheat-sheet\n",
    "\n",
    "#### Resources\n",
    "\n",
    "+ Information and data sources: http://www.amstat.org/publications/jse/datasets/normtemp.txt, http://www.amstat.org/publications/jse/jse_data_archive.htm\n",
    "+ Markdown syntax: http://nestacms.com/docs/creating-content/markdown-cheat-sheet\n",
    "\n",
    "****"
   ]
  },
  {
   "cell_type": "markdown",
   "metadata": {},
   "source": [
    "#### Data Setup"
   ]
  },
  {
   "cell_type": "code",
   "execution_count": 1,
   "metadata": {},
   "outputs": [],
   "source": [
    "import pandas as pd\n",
    "\n",
    "df = pd.read_csv('data/human_body_temperature.csv')"
   ]
  },
  {
   "cell_type": "code",
   "execution_count": 2,
   "metadata": {},
   "outputs": [],
   "source": [
    "import matplotlib.pyplot as plt\n",
    "import seaborn as sns\n",
    "import numpy as np\n",
    "from scipy import stats\n",
    "%matplotlib inline"
   ]
  },
  {
   "cell_type": "markdown",
   "metadata": {},
   "source": [
    "Use Seaborn style for graphic representation"
   ]
  },
  {
   "cell_type": "code",
   "execution_count": 3,
   "metadata": {},
   "outputs": [],
   "source": [
    "sns.set()"
   ]
  },
  {
   "cell_type": "markdown",
   "metadata": {},
   "source": [
    "Review columns info and understanding the shape of the sample set. It has 130 rows and 3 columns"
   ]
  },
  {
   "cell_type": "code",
   "execution_count": 4,
   "metadata": {},
   "outputs": [
    {
     "name": "stdout",
     "output_type": "stream",
     "text": [
      "<class 'pandas.core.frame.DataFrame'>\n",
      "RangeIndex: 130 entries, 0 to 129\n",
      "Data columns (total 3 columns):\n",
      "temperature    130 non-null float64\n",
      "gender         130 non-null object\n",
      "heart_rate     130 non-null float64\n",
      "dtypes: float64(2), object(1)\n",
      "memory usage: 3.1+ KB\n",
      "None\n",
      "(130, 3)\n"
     ]
    }
   ],
   "source": [
    "print(df.info())\n",
    "print(df.shape)"
   ]
  },
  {
   "cell_type": "markdown",
   "metadata": {},
   "source": [
    "#### Question 1\n",
    "\n",
    "Use graphical method by plotting the temperature data against a random sample normal distributed dataset in CDF form"
   ]
  },
  {
   "cell_type": "code",
   "execution_count": 5,
   "metadata": {},
   "outputs": [
    {
     "name": "stdout",
     "output_type": "stream",
     "text": [
      "11\n"
     ]
    }
   ],
   "source": [
    "# Rule of thumb is to set bins as the square root of the numbers of data points\n",
    "bins = np.sqrt(len(df)).astype('int')\n",
    "print(bins)"
   ]
  },
  {
   "cell_type": "code",
   "execution_count": 6,
   "metadata": {},
   "outputs": [
    {
     "data": {
      "image/png": "[encoded data removed]",
      "text/plain": [
       "<Figure size 432x288 with 1 Axes>"
      ]
     },
     "metadata": {},
     "output_type": "display_data"
    }
   ],
   "source": [
    "_ = plt.hist('temperature', data=df, bins=bins)\n",
    "_ = plt.xlabel('Temp')\n",
    "_ = plt.ylabel('counts')"
   ]
  },
  {
   "cell_type": "markdown",
   "metadata": {},
   "source": [
    "Initial view suggests that data are normally distributed. We need to further confirm that by drawing a normal distributed samples from numpy"
   ]
  },
  {
   "cell_type": "code",
   "execution_count": 7,
   "metadata": {},
   "outputs": [],
   "source": [
    "mu = np.mean(df.temperature)\n",
    "sigma = np.std(df.temperature)\n",
    "samples = np.random.normal(mu, sigma, 10000)"
   ]
  },
  {
   "cell_type": "code",
   "execution_count": 8,
   "metadata": {},
   "outputs": [],
   "source": [
    "# Create a function to save typing time\n",
    "def ecdf(data):\n",
    "    n = len(data)\n",
    "    x = np.sort(data)\n",
    "    y = np.arange(1, n+1) / n\n",
    "    return x, y"
   ]
  },
  {
   "cell_type": "code",
   "execution_count": 9,
   "metadata": {},
   "outputs": [],
   "source": [
    "x, y = ecdf(df.temperature)\n",
    "x_theor, y_theor = ecdf(samples)"
   ]
  },
  {
   "cell_type": "code",
   "execution_count": 10,
   "metadata": {},
   "outputs": [
    {
     "data": {
      "image/png": "[encoded data removed]",
      "text/plain": [
       "<Figure size 432x288 with 1 Axes>"
      ]
     },
     "metadata": {},
     "output_type": "display_data"
    }
   ],
   "source": [
    "_ = plt.plot(x, y, marker='.', linestyle='none', label='original data')\n",
    "_ = plt.plot(x_theor, y_theor, label='sample data')\n",
    "_ = plt.xlabel('Temp')\n",
    "_ = plt.ylabel('probability')\n",
    "_ = plt.legend(loc='best')\n",
    "plt.show()"
   ]
  },
  {
   "cell_type": "markdown",
   "metadata": {},
   "source": [
    "The CDF curve for the dataset matches pretty well with the normal distributed sample set CDF.\n",
    "We can conclude that the data collected are normal distributed."
   ]
  },
  {
   "cell_type": "markdown",
   "metadata": {},
   "source": [
    "#### Question 2\n",
    "\n",
    "Per [t-distribution table](http://www.sthda.com/english/wiki/t-distribution-table) , a sample size need to be at least 25-30 to achieve normal distribution. Sample size >120 will have very similar distribution shape as infinite sample size. The dataset in this exercise has 130 samples. We can assume that the data are normal distributed.\n",
    "\n",
    "If the data were collected from babies or small children, the dependent variable will be ages. If the data were collected from a gym, the dependent variable will be level of exercising. Since there is no specific information with regarding the conditions on how the data were collected, we assume that observations are independent. "
   ]
  },
  {
   "cell_type": "markdown",
   "metadata": {},
   "source": [
    "#### Question 3"
   ]
  },
  {
   "cell_type": "markdown",
   "metadata": {},
   "source": [
    "Null Hypothesis - Sample mean is equal to mean population temperature of 98.6F\n",
    "\n",
    "First shifted the sample mean to be equal to that of the population temperature mean"
   ]
  },
  {
   "cell_type": "code",
   "execution_count": 11,
   "metadata": {},
   "outputs": [
    {
     "name": "stdout",
     "output_type": "stream",
     "text": [
      "98.24923076923078\n"
     ]
    }
   ],
   "source": [
    "sample_mean = np.mean(df.temperature)\n",
    "print(sample_mean)\n",
    "sample_shifted = df.temperature - sample_mean + 98.6"
   ]
  },
  {
   "cell_type": "markdown",
   "metadata": {},
   "source": [
    "Create a function on drawing bootstrap samples"
   ]
  },
  {
   "cell_type": "code",
   "execution_count": 12,
   "metadata": {},
   "outputs": [],
   "source": [
    "def bootstrap_replicate_1d(data, func):\n",
    "    return func(np.random.choice(data, size=len(data)))"
   ]
  },
  {
   "cell_type": "markdown",
   "metadata": {},
   "source": [
    "Then, create another function to generate many bootstrap replicates "
   ]
  },
  {
   "cell_type": "code",
   "execution_count": 13,
   "metadata": {},
   "outputs": [],
   "source": [
    "def draw_bs_reps(data, func, size):\n",
    "    bs_replicates = np.empty(size)\n",
    "    for i in range(size):\n",
    "        bs_replicates[i] = bootstrap_replicate_1d(data, func)\n",
    "    return bs_replicates"
   ]
  },
  {
   "cell_type": "markdown",
   "metadata": {},
   "source": [
    "Get the set of means for the 10000 bootstrap replicates"
   ]
  },
  {
   "cell_type": "code",
   "execution_count": 14,
   "metadata": {},
   "outputs": [],
   "source": [
    "bs_replicates = draw_bs_reps(sample_shifted, np.mean, 10000)"
   ]
  },
  {
   "cell_type": "markdown",
   "metadata": {},
   "source": [
    "Identify the 95% confident interval among the bs_replicates and p-value"
   ]
  },
  {
   "cell_type": "code",
   "execution_count": 15,
   "metadata": {},
   "outputs": [
    {
     "name": "stdout",
     "output_type": "stream",
     "text": [
      "[98.47615385 98.72232692]\n"
     ]
    }
   ],
   "source": [
    "conf_lv_95 = np.percentile(bs_replicates, [2.5, 97.5])\n",
    "print(conf_lv_95)"
   ]
  },
  {
   "cell_type": "code",
   "execution_count": 16,
   "metadata": {},
   "outputs": [
    {
     "name": "stdout",
     "output_type": "stream",
     "text": [
      "0.0\n"
     ]
    }
   ],
   "source": [
    "p = np.sum(bs_replicates <= sample_mean)/len(bs_replicates)\n",
    "print(p)"
   ]
  },
  {
   "cell_type": "markdown",
   "metadata": {},
   "source": [
    "From the 95% interval range, it does not contain sample mean of 98.2F, which mean that there is less than 5% chance of getting 98.2F as a mean to the population with temperature mean of 98.6F. In fact, the chance of getting the sample_mean is zero. \n",
    "\n",
    "We will reject the null hypothesis that the sample mean is equal to the population mean of 98.6F. This implies two possibilities:\n",
    "1. Population temperature mean is no longer 98.6F\n",
    "2. Sample data are not representative to true population\n",
    "\n",
    "Given the large sample set, z test is used"
   ]
  },
  {
   "cell_type": "code",
   "execution_count": 17,
   "metadata": {},
   "outputs": [
    {
     "name": "stdout",
     "output_type": "stream",
     "text": [
      "z-score: -5.48\n",
      "p-value: 0.00\n"
     ]
    }
   ],
   "source": [
    "z = (sample_mean -98.6)/ (np.std(df.temperature) / np.sqrt(len(df)))\n",
    "# we want area on the left tail\n",
    "pval = 2 * (stats.norm.cdf(z))\n",
    "print('z-score: {:.2f}'.format(z))\n",
    "print('p-value: {:.2f}'.format(pval))"
   ]
  },
  {
   "cell_type": "markdown",
   "metadata": {},
   "source": [
    "The z score is < 3 and p-value is zero. It suggest significant evidence to reject the null hypothesis."
   ]
  },
  {
   "cell_type": "markdown",
   "metadata": {},
   "source": [
    "t-test, one-sample"
   ]
  },
  {
   "cell_type": "code",
   "execution_count": 18,
   "metadata": {},
   "outputs": [
    {
     "name": "stdout",
     "output_type": "stream",
     "text": [
      "t-score: -5.45\n",
      "p-value: 0.00\n"
     ]
    }
   ],
   "source": [
    "t_statistics = stats.ttest_1samp(df.temperature, 98.6)\n",
    "print('t-score: {:.2f}'.format(t_statistics.statistic))\n",
    "print('p-value: {:.2f}'.format(t_statistics.pvalue))"
   ]
  },
  {
   "cell_type": "markdown",
   "metadata": {},
   "source": [
    "t score <5 and p-value is zero, we will reject the null hypothesis"
   ]
  },
  {
   "cell_type": "markdown",
   "metadata": {},
   "source": [
    "#### Question 4"
   ]
  },
  {
   "cell_type": "markdown",
   "metadata": {},
   "source": [
    "Null Hypothesis - Sample mean is equal to mean population temperature of 98.6F"
   ]
  },
  {
   "cell_type": "markdown",
   "metadata": {},
   "source": [
    "Drawing ten sample from the dataset and repeat all the steps that were run in question 3"
   ]
  },
  {
   "cell_type": "code",
   "execution_count": 19,
   "metadata": {},
   "outputs": [],
   "source": [
    "ten_sample = df['temperature'].sample(n=10, random_state=3)\n",
    "ten_sample_mean = np.mean(ten_sample)"
   ]
  },
  {
   "cell_type": "markdown",
   "metadata": {},
   "source": [
    "z-test"
   ]
  },
  {
   "cell_type": "code",
   "execution_count": 20,
   "metadata": {},
   "outputs": [
    {
     "name": "stdout",
     "output_type": "stream",
     "text": [
      "z-score: -2.33\n",
      "p-value: 0.02\n"
     ]
    }
   ],
   "source": [
    "z1 = (ten_sample_mean -98.6)/ (np.std(ten_sample) / np.sqrt(10))\n",
    "# we want area on the left tail\n",
    "pval1 = 2 * (stats.norm.cdf(z1))\n",
    "print('z-score: {:.2f}'.format(z1))\n",
    "print('p-value: {:.2f}'.format(pval1))"
   ]
  },
  {
   "cell_type": "markdown",
   "metadata": {},
   "source": [
    "t-test"
   ]
  },
  {
   "cell_type": "code",
   "execution_count": 21,
   "metadata": {},
   "outputs": [
    {
     "name": "stdout",
     "output_type": "stream",
     "text": [
      "t-score: -2.21\n",
      "p-value: 0.05\n"
     ]
    }
   ],
   "source": [
    "t_ten_sample = stats.ttest_1samp(ten_sample, 98.6)\n",
    "print('t-score: {:.2f}'.format(t_ten_sample.statistic))\n",
    "print('p-value: {:.2f}'.format(t_ten_sample.pvalue))"
   ]
  },
  {
   "cell_type": "markdown",
   "metadata": {},
   "source": [
    "We will reject the null hypothesis under z-test, but fail to reject under t-test under 95% confidence level. t-test would provide a more conservative result for smaller sample. Nonetheless, both tests gave higher p-value when the sample size is reduced, which make it harder to reject null hypothesis."
   ]
  },
  {
   "cell_type": "markdown",
   "metadata": {},
   "source": [
    "#### Question 5\n",
    "\n",
    "Under 95% confident level, we would regard abnormal temperature be 2 standard deviations from the mean of the population"
   ]
  },
  {
   "cell_type": "markdown",
   "metadata": {},
   "source": [
    "For bootstrap method, we can reuse the the 95% confident interval calculated before"
   ]
  },
  {
   "cell_type": "code",
   "execution_count": 22,
   "metadata": {},
   "outputs": [
    {
     "name": "stdout",
     "output_type": "stream",
     "text": [
      "Bootstrap confident interval: [98.47615385 98.72232692]\n"
     ]
    }
   ],
   "source": [
    "conf_lv_95 = np.percentile(bs_replicates, [2.5, 97.5])\n",
    "print('Bootstrap confident interval: {}'.format(conf_lv_95))"
   ]
  },
  {
   "cell_type": "code",
   "execution_count": 23,
   "metadata": {},
   "outputs": [
    {
     "name": "stdout",
     "output_type": "stream",
     "text": [
      "Margin of error: 0.125550964802579\n",
      "z-test Confidence interval: [98.12367980442819, 98.37478173403336]\n"
     ]
    }
   ],
   "source": [
    "# For z-test will need to calculiate margin of error of using origin sample, using the formula of z * std/sqrt(n)\n",
    "margin_error = 1.96 * np.std(df.temperature)/ np.sqrt(len(df.temperature))\n",
    "confid_lv_z = [sample_mean - margin_error, sample_mean + margin_error]\n",
    "print ('Margin of error: {}'.format(margin_error))\n",
    "print ('z-test Confidence interval: {}'.format(confid_lv_z))"
   ]
  },
  {
   "cell_type": "markdown",
   "metadata": {},
   "source": [
    "z test method indicates similar temperature range with 95% confidence, which is below 98.13F or 98.38F."
   ]
  },
  {
   "cell_type": "markdown",
   "metadata": {},
   "source": [
    "t-test for the sample of 10. df = 9, t score is 2.263"
   ]
  },
  {
   "cell_type": "code",
   "execution_count": 24,
   "metadata": {},
   "outputs": [
    {
     "name": "stdout",
     "output_type": "stream",
     "text": [
      "Margin of error: 0.46685860026350584\n",
      "Confidence interval: [97.6531413997365, 98.58685860026351]\n"
     ]
    }
   ],
   "source": [
    "margin_of_error_1 = 2.263 * np.std(ten_sample)/np.sqrt(len(ten_sample))\n",
    "confid_lv_t = [ten_sample_mean - margin_of_error_1, ten_sample_mean + margin_of_error_1]\n",
    "print ('Margin of error: {}'.format(margin_of_error_1))\n",
    "print ('Confidence interval: {}'.format(confid_lv_t))"
   ]
  },
  {
   "cell_type": "markdown",
   "metadata": {},
   "source": [
    "Note that the margin of error is bigger in the t-test and so does the confidence interval. This is due to small sample size."
   ]
  },
  {
   "cell_type": "code",
   "execution_count": 25,
   "metadata": {},
   "outputs": [
    {
     "data": {
      "text/plain": [
       "(96.81775582674824, 99.68070571171332)"
      ]
     },
     "execution_count": 25,
     "metadata": {},
     "output_type": "execute_result"
    }
   ],
   "source": [
    "# validate by using stats.norm.inteval function\n",
    "stats.norm.interval(.95, loc=mu, scale=sigma)"
   ]
  },
  {
   "cell_type": "code",
   "execution_count": 26,
   "metadata": {},
   "outputs": [
    {
     "data": {
      "text/plain": [
       "(96.80420001613984, 99.69426152232171)"
      ]
     },
     "execution_count": 26,
     "metadata": {},
     "output_type": "execute_result"
    }
   ],
   "source": [
    "# validate by using stats.t.inteval function\n",
    "stats.t.interval(.95, len(df)-1, loc=mu, scale=sigma)"
   ]
  },
  {
   "cell_type": "markdown",
   "metadata": {},
   "source": [
    "#### Question 6\n",
    "\n",
    "Null Hypothesis - males and females have the same mean body temperature.\n",
    "\n",
    "We will use two samples bootstrap method"
   ]
  },
  {
   "cell_type": "code",
   "execution_count": 27,
   "metadata": {},
   "outputs": [
    {
     "name": "stdout",
     "output_type": "stream",
     "text": [
      "-0.289230769230727\n"
     ]
    }
   ],
   "source": [
    "# Obtain samples for males and females\n",
    "males = df[df.gender == 'M'].temperature\n",
    "females = df[df.gender == 'F'].temperature\n",
    "# Observed difference from the existing sample\n",
    "mean_diff = np.mean(males) - np.mean(females)\n",
    "print(mean_diff)"
   ]
  },
  {
   "cell_type": "code",
   "execution_count": 28,
   "metadata": {},
   "outputs": [],
   "source": [
    "# Shift sample\n",
    "males_shifted = males - np.mean(males) + mu\n",
    "females_shifted = females - np.mean(females) + mu"
   ]
  },
  {
   "cell_type": "code",
   "execution_count": 29,
   "metadata": {},
   "outputs": [],
   "source": [
    "# Draw replicates\n",
    "bs_rep_males = draw_bs_reps(males_shifted, np.mean, 10000)\n",
    "bs_rep_females = draw_bs_reps(females_shifted, np.mean, 10000)"
   ]
  },
  {
   "cell_type": "code",
   "execution_count": 30,
   "metadata": {},
   "outputs": [
    {
     "name": "stdout",
     "output_type": "stream",
     "text": [
      "p-value: 0.02\n"
     ]
    }
   ],
   "source": [
    "# Calculate difference in mean among the replicates\n",
    "bs_rep_diff = np.abs(bs_rep_males - bs_rep_females)\n",
    "\n",
    "# Calculiate p value on showing the observed difference is a result of chance\n",
    "p = np.sum(bs_rep_diff >= np.abs(mean_diff)) / len(bs_rep_diff)\n",
    "print ('p-value: {:.2f}'.format(p))"
   ]
  },
  {
   "cell_type": "markdown",
   "metadata": {},
   "source": [
    "It has 2% chance of getting the observed difference. We have significant evidence to reject the null hypothesis under 95% confidence level"
   ]
  },
  {
   "cell_type": "markdown",
   "metadata": {},
   "source": [
    "Apply z-test. Using 95% confidence level"
   ]
  },
  {
   "cell_type": "code",
   "execution_count": 31,
   "metadata": {},
   "outputs": [
    {
     "name": "stdout",
     "output_type": "stream",
     "text": [
      "z-score: -2.30\n",
      "p-value:0.02\n"
     ]
    }
   ],
   "source": [
    "z_diff_in_mean = mean_diff/(np.sqrt(np.std(males)**2/len(males)+ np.std(females)**2/len(females)))\n",
    "p_val_diff_in_mean = 2 * (1-stats.norm.cdf(np.abs(z_diff_in_mean)))\n",
    "print ('z-score: {:.2f}'.format(z_diff_in_mean))\n",
    "print ('p-value:{:.2f}'.format(p_val_diff_in_mean))"
   ]
  },
  {
   "cell_type": "code",
   "execution_count": 32,
   "metadata": {},
   "outputs": [
    {
     "name": "stdout",
     "output_type": "stream",
     "text": [
      "z-score: -2.29\n",
      "p-value: 0.02\n"
     ]
    }
   ],
   "source": [
    "# for validation purposes, calculating z-test using statsmodels\n",
    "from statsmodels.stats.weightstats import ztest\n",
    "z_test = ztest(males, females)\n",
    "print ('z-score: {:.2f}'.format(z_test[0]))\n",
    "print ('p-value: {:.2f}'.format(z_test[1]))"
   ]
  },
  {
   "cell_type": "markdown",
   "metadata": {},
   "source": [
    "p value is <5%, we will reject the null hypothesis under 95% confidence level"
   ]
  },
  {
   "cell_type": "markdown",
   "metadata": {},
   "source": [
    "Apply t test"
   ]
  },
  {
   "cell_type": "code",
   "execution_count": 33,
   "metadata": {},
   "outputs": [
    {
     "name": "stdout",
     "output_type": "stream",
     "text": [
      "t-score: -2.29\n",
      "p-value: 0.02\n"
     ]
    }
   ],
   "source": [
    "t_test1 = stats.ttest_ind(males, females)\n",
    "print ('t-score: {:.2f}'.format(t_test1.statistic))\n",
    "print ('p-value: {:.2f}'.format(t_test1.pvalue))"
   ]
  },
  {
   "cell_type": "markdown",
   "metadata": {},
   "source": [
    "p-value is at 2%, we have significant evidence to reject the null hypothesis under 95% confidence level"
   ]
  },
  {
   "cell_type": "markdown",
   "metadata": {},
   "source": [
    "#### Conclusion\n",
    "\n",
    "The mean normal body temperature of 98.6F is not necessarily true in today's population. In fact, the sample temperature mean is 98.2F, which is 0.4F below the historical mean. \n",
    "\n",
    "Why the decrease? One area which would worth exploring is the current living environment. Perhaps more people have moved to warmer areas, in which their body temperatures don't need to stay that high to remain warm. With the advance in technology, a lot of labor intensive works are replaced by machine. As a result, people no longer need to eat that much food to perform daily tasks, hence less energy needed in the body, hence the decrease. In related to that, people today have more clothing and shelters for body protection from the wild environment, the biological part of the body may change over time which need less body fat to maintain high body temperature."
   ]
  }
 ],
 "metadata": {
  "kernelspec": {
   "display_name": "Python 3",
   "language": "python",
   "name": "python3"
  },
  "language_info": {
   "codemirror_mode": {
    "name": "ipython",
    "version": 3
   },
   "file_extension": ".py",
   "mimetype": "text/x-python",
   "name": "python",
   "nbconvert_exporter": "python",
   "pygments_lexer": "ipython3",
   "version": "3.6.5"
  }
 },
 "nbformat": 4,
 "nbformat_minor": 1
}
